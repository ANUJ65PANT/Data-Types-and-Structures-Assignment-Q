{
  "nbformat": 4,
  "nbformat_minor": 0,
  "metadata": {
    "colab": {
      "provenance": []
    },
    "kernelspec": {
      "name": "python3",
      "display_name": "Python 3"
    },
    "language_info": {
      "name": "python"
    }
  },
  "cells": [
    {
      "cell_type": "code",
      "execution_count": null,
      "metadata": {
        "id": "bR4Ebc8mexmo"
      },
      "outputs": [],
      "source": []
    },
    {
      "cell_type": "markdown",
      "source": [
        "# Data Types and Structures– Theory Questions\n",
        "\n",
        "1. What are data structures, and why are they important?\n",
        "->Data structures are ways to organize and store data. They help us do things like finding, adding, or removing data quickly and easily.\n",
        "\n",
        "2. What is the difference between mutable and immutable data types?\n",
        "\n",
        "->Mutable means you can change the data (like a list).\n",
        "\n",
        "Immutable means you can’t change it (like a string or a number).\n",
        "\n",
        "3. What are the main differences between lists and tuples?\n",
        "\n",
        "->Lists can be changed.\n",
        "\n",
        "Tuples cannot be changed.\n",
        "Tuples are also faster and used when the data shouldn't change.\n",
        "\n",
        "4. How do dictionaries store data?\n",
        "->Dictionaries store data in key: value pairs. Think of it like a mini contact book — the name is the key, the number is the value.\n",
        "\n",
        "5.  Why use a set instead of a list?\n",
        "-> Sets don’t allow duplicate values and are faster when checking if something exists. Use a set when you want only unique items.\n",
        "\n",
        "6. What is a string, and how is it different from a list?\n",
        "-> A string is a group of characters (like \"hello\"). You can't change it. A list is a collection of items, and you can change it.\n",
        "\n",
        "7. How do tuples keep data safe from changes?\n",
        "->Tuples can't be changed, so they keep the data safe from being accidentally edited.\n",
        "\n",
        "8. What is a hash table, and how is it related to dictionaries?\n",
        "->A hash table is a smart way of storing data to find it fast. Dictionaries in Python use this method to find values using keys quickly.\n",
        "\n",
        "9. Can a list have different types of data?\n",
        "->Yes! A list can have numbers, strings, other lists, etc.\n",
        "Example: [1, \"hello\", 3.5, [2, 3]]\n",
        "\n",
        "10. Why can’t we change strings in Python?\n",
        "->Strings can’t be changed to keep them safe and efficient. It also lets them be used as keys in dictionaries.\n",
        "\n",
        "11. What are the benefits of dictionaries over lists?\n",
        "->Dictionaries are faster when you want to find something using a key. Lists don’t have keys, so searching is slower.\n",
        "\n",
        "12. When is it better to use a tuple than a list?\n",
        "->Use a tuple when the data should not change — like days of the week or coordinates (x, y).\n",
        "\n",
        "13. How do sets handle duplicate values?\n",
        "->Sets automatically remove any repeated values.\n",
        "Example: {1, 2, 2, 3} becomes {1, 2, 3}\n",
        "\n",
        "14. How does \"in\" work for lists and dictionaries?\n",
        "\n",
        "->In a list, it checks if a value exists.\n",
        "\n",
        "In a dictionary, it checks if a key exists.\n",
        "\n",
        "3 in [1, 2, 3]       # True  \n",
        "'name' in {'name': 'Anuj'}  # True\n",
        "15. Can we change what's inside a tuple? Why not?\n",
        "->No, because tuples are immutable. Once made, their values stay the same.\n",
        "\n",
        "16. What is a nested dictionary? Give an example.\n",
        "-> nested dictionary is a dictionary inside another one.\n",
        "Example:\n",
        "\n",
        "\n",
        "student = {\n",
        "  \"name\": \"Anuj\",\n",
        "  \"marks\": {\"math\": 90, \"science\": 80}\n",
        "}\n",
        "17. What is the time taken to get a value from a dictionary?\n",
        "->It usually takes very little time — constant time (O(1)), which means it's very fast.\n",
        "\n",
        "18. When should you use a list instead of a dictionary?\n",
        "->Use a list when you just want to store items in order — like a shopping list.\n",
        "\n",
        "19. Why are dictionaries considered unordered?\n",
        "->In older Python versions, dictionaries didn’t remember the order of items. Now they do, but they’re still used mainly for quick access using keys.\n",
        "\n",
        "20. What’s the difference between a list and a dictionary for finding data?\n",
        "\n",
        "->In a list, you find data using a number (index).\n",
        "\n",
        "In a dictionary, you find data using a key."
      ],
      "metadata": {
        "id": "-OmsxaLjfJGk"
      }
    },
    {
      "cell_type": "code",
      "source": [
        "#1. Write a code to create a string with your name and print it\n",
        "\n",
        "name = \"Anuj\"\n",
        "print(name)\n",
        "\n",
        "\n",
        "\n",
        "\n",
        "\n",
        "\n",
        "\n",
        "\n",
        "\n",
        "\n",
        "\n",
        "\n",
        "\n",
        "\n",
        "\n",
        "\n"
      ],
      "metadata": {
        "colab": {
          "base_uri": "https://localhost:8080/"
        },
        "id": "9eZtXiXehXN3",
        "outputId": "515888aa-5119-407d-de92-7d9b36f0d5aa"
      },
      "execution_count": 36,
      "outputs": [
        {
          "output_type": "stream",
          "name": "stdout",
          "text": [
            "Anuj\n"
          ]
        }
      ]
    },
    {
      "cell_type": "code",
      "source": [
        "#2. Write a code to find the length of the string \"Hello World\"\n",
        "\n",
        "\n",
        "text = \"Hello World\"\n",
        "print(len(text))"
      ],
      "metadata": {
        "colab": {
          "base_uri": "https://localhost:8080/"
        },
        "id": "ji4vqiGaiCxv",
        "outputId": "25069fcc-0d19-4bf5-a429-dc14e723cf3f"
      },
      "execution_count": 2,
      "outputs": [
        {
          "output_type": "stream",
          "name": "stdout",
          "text": [
            "11\n"
          ]
        }
      ]
    },
    {
      "cell_type": "code",
      "source": [
        "#3. Write a code to slice the first 3 characters from the string \"Python Programming\"\n",
        "\n",
        "\n",
        "text = \"Python Programming\"\n",
        "print(text[:3])"
      ],
      "metadata": {
        "colab": {
          "base_uri": "https://localhost:8080/"
        },
        "id": "F86WVGdqiqGU",
        "outputId": "4ce79982-7176-4470-e8cf-8fc862697a7e"
      },
      "execution_count": 3,
      "outputs": [
        {
          "output_type": "stream",
          "name": "stdout",
          "text": [
            "Pyt\n"
          ]
        }
      ]
    },
    {
      "cell_type": "code",
      "source": [
        "#4. Write a code to convert the string \"hello\" to uppercase\n",
        "\n",
        "\n",
        "text = \"hello\"\n",
        "print(text.upper())"
      ],
      "metadata": {
        "colab": {
          "base_uri": "https://localhost:8080/"
        },
        "id": "xF2LsajUjh26",
        "outputId": "ff8d61ec-430e-4079-c5e6-ada3d81254dd"
      },
      "execution_count": 5,
      "outputs": [
        {
          "output_type": "stream",
          "name": "stdout",
          "text": [
            "HELLO\n"
          ]
        }
      ]
    },
    {
      "cell_type": "code",
      "source": [
        "#5. Write a code to replace the word \"apple\" with \"orange\" in the string \"I like apple\"\n",
        "\n",
        "\n",
        "text = \"I like apple\"\n",
        "new_text = text.replace(\"apple\", \"orange\")\n",
        "print(new_text)"
      ],
      "metadata": {
        "colab": {
          "base_uri": "https://localhost:8080/"
        },
        "id": "DDEGYCyvj3vL",
        "outputId": "84e36ade-0353-4323-f5d0-a49018103725"
      },
      "execution_count": 7,
      "outputs": [
        {
          "output_type": "stream",
          "name": "stdout",
          "text": [
            "I like orange\n"
          ]
        }
      ]
    },
    {
      "cell_type": "code",
      "source": [
        "#6. Write a code to create a list with numbers 1 to 5 and print it\n",
        "\n",
        "\n",
        "numbers = [1, 2, 3, 4, 5]\n",
        "print(numbers)"
      ],
      "metadata": {
        "colab": {
          "base_uri": "https://localhost:8080/"
        },
        "id": "HWpOtiRvkBZF",
        "outputId": "40c24430-c06a-40ce-d8fc-dd5d87fc2997"
      },
      "execution_count": 9,
      "outputs": [
        {
          "output_type": "stream",
          "name": "stdout",
          "text": [
            "[1, 2, 3, 4, 5]\n"
          ]
        }
      ]
    },
    {
      "cell_type": "code",
      "source": [
        "#7. Write a code to append the number 10 to the list [1, 2, 3, 4]\n",
        "\n",
        "\n",
        "numbers = [1, 2, 3, 4]\n",
        "numbers.append(10)\n",
        "print(numbers)"
      ],
      "metadata": {
        "colab": {
          "base_uri": "https://localhost:8080/"
        },
        "id": "ngIqEfcSkNkf",
        "outputId": "1f17733a-84c7-46eb-ccb7-9fe1de2f3ff2"
      },
      "execution_count": 11,
      "outputs": [
        {
          "output_type": "stream",
          "name": "stdout",
          "text": [
            "[1, 2, 3, 4, 10]\n"
          ]
        }
      ]
    },
    {
      "cell_type": "code",
      "source": [
        "#8. Write a code to remove the number 3 from the list [1, 2, 3, 4, 5]\n",
        "\n",
        "\n",
        "numbers = [1, 2, 3, 4, 5]\n",
        "numbers.remove(3)\n",
        "print(numbers)"
      ],
      "metadata": {
        "colab": {
          "base_uri": "https://localhost:8080/"
        },
        "id": "VyFcBCoMkk3X",
        "outputId": "98279579-51d8-4929-f735-7fa5deed2e7e"
      },
      "execution_count": 12,
      "outputs": [
        {
          "output_type": "stream",
          "name": "stdout",
          "text": [
            "[1, 2, 4, 5]\n"
          ]
        }
      ]
    },
    {
      "cell_type": "code",
      "source": [
        "\n",
        "#9. Write a code to access the second element in the list ['a', 'b', 'c', 'd']\n",
        "\n",
        "\n",
        "letters = ['a', 'b', 'c', 'd']\n",
        "print(letters[1])"
      ],
      "metadata": {
        "colab": {
          "base_uri": "https://localhost:8080/"
        },
        "id": "Ps-dI4R6k0AH",
        "outputId": "622d86c3-8024-4e6a-ba85-f4fa88cf0180"
      },
      "execution_count": 13,
      "outputs": [
        {
          "output_type": "stream",
          "name": "stdout",
          "text": [
            "b\n"
          ]
        }
      ]
    },
    {
      "cell_type": "code",
      "source": [
        "#10. Write a code to reverse the list [10, 20, 30, 40, 50]\n",
        "\n",
        "\n",
        "numbers = [10, 20, 30, 40, 50]\n",
        "numbers.reverse()\n",
        "print(numbers)"
      ],
      "metadata": {
        "colab": {
          "base_uri": "https://localhost:8080/"
        },
        "id": "qUJccENTk8wl",
        "outputId": "6abd8765-dfc4-49cb-86ba-5e9711d79dde"
      },
      "execution_count": 14,
      "outputs": [
        {
          "output_type": "stream",
          "name": "stdout",
          "text": [
            "[50, 40, 30, 20, 10]\n"
          ]
        }
      ]
    },
    {
      "cell_type": "code",
      "source": [
        "#11. Write a code to create a tuple with the elements 100, 200, 300 and print it\n",
        "\n",
        "\n",
        "my_tuple = (100, 200, 300)\n",
        "print(my_tuple)"
      ],
      "metadata": {
        "colab": {
          "base_uri": "https://localhost:8080/"
        },
        "id": "r34l6WgblHKv",
        "outputId": "de8083f2-6292-4493-874a-2abb3d59b643"
      },
      "execution_count": 15,
      "outputs": [
        {
          "output_type": "stream",
          "name": "stdout",
          "text": [
            "(100, 200, 300)\n"
          ]
        }
      ]
    },
    {
      "cell_type": "code",
      "source": [
        "#12. Write a code to access the second-to-last element of the tuple ('red', 'green', 'blue', 'yellow')\n",
        "\n",
        "\n",
        "colors = ('red', 'green', 'blue', 'yellow')\n",
        "print(colors[-2])"
      ],
      "metadata": {
        "colab": {
          "base_uri": "https://localhost:8080/"
        },
        "id": "CH4K_UY6lTmW",
        "outputId": "46c25b23-cc18-4353-ebfd-ada159fbff68"
      },
      "execution_count": 16,
      "outputs": [
        {
          "output_type": "stream",
          "name": "stdout",
          "text": [
            "blue\n"
          ]
        }
      ]
    },
    {
      "cell_type": "code",
      "source": [
        "\n",
        "#13. Write a code to find the minimum number in the tuple (10, 20, 5, 15)\n",
        "\n",
        "\n",
        "nums = (10, 20, 5, 15)\n",
        "print(min(nums))"
      ],
      "metadata": {
        "colab": {
          "base_uri": "https://localhost:8080/"
        },
        "id": "5SFeVQ7NlqJF",
        "outputId": "59143ab0-1d26-41c2-f014-2bb2bc32e655"
      },
      "execution_count": 17,
      "outputs": [
        {
          "output_type": "stream",
          "name": "stdout",
          "text": [
            "5\n"
          ]
        }
      ]
    },
    {
      "cell_type": "code",
      "source": [
        "\n",
        "#14. Write a code to find the index of the element \"cat\" in the tuple ('dog', 'cat', 'rabbit')\n",
        "\n",
        "animals = ('dog', 'cat', 'rabbit')\n",
        "print(animals.index(\"cat\"))"
      ],
      "metadata": {
        "colab": {
          "base_uri": "https://localhost:8080/"
        },
        "id": "Lqdt4Hfql1Ds",
        "outputId": "9684aa74-2ec1-4546-f3eb-f86949356011"
      },
      "execution_count": 18,
      "outputs": [
        {
          "output_type": "stream",
          "name": "stdout",
          "text": [
            "1\n"
          ]
        }
      ]
    },
    {
      "cell_type": "code",
      "source": [
        "#15. Write a code to create a tuple containing three different fruits and check if \"kiwi\" is in it\n",
        "\n",
        "\n",
        "fruits = (\"apple\", \"banana\", \"mango\")\n",
        "print(\"kiwi\" in fruits)"
      ],
      "metadata": {
        "colab": {
          "base_uri": "https://localhost:8080/"
        },
        "id": "HXeqbf1ml9VX",
        "outputId": "9b291a49-ad83-48a4-eeab-967d58666515"
      },
      "execution_count": 19,
      "outputs": [
        {
          "output_type": "stream",
          "name": "stdout",
          "text": [
            "False\n"
          ]
        }
      ]
    },
    {
      "cell_type": "code",
      "source": [
        "#16. Write a code to create a set with the elements 'a', 'b', 'c' and print it\n",
        "\n",
        "\n",
        "my_set = {'a', 'b', 'c'}\n",
        "print(my_set)"
      ],
      "metadata": {
        "colab": {
          "base_uri": "https://localhost:8080/"
        },
        "id": "TZWmGshZmJqz",
        "outputId": "4500b558-872c-471d-c6ab-1bde454cb264"
      },
      "execution_count": 20,
      "outputs": [
        {
          "output_type": "stream",
          "name": "stdout",
          "text": [
            "{'b', 'a', 'c'}\n"
          ]
        }
      ]
    },
    {
      "cell_type": "code",
      "source": [
        "\n",
        "#17. Write a code to clear all elements from the set {1, 2, 3, 4, 5}.\n",
        "\n",
        "\n",
        "my_set = {1, 2, 3, 4, 5}\n",
        "my_set.clear()\n",
        "print(my_set)"
      ],
      "metadata": {
        "colab": {
          "base_uri": "https://localhost:8080/"
        },
        "id": "MzX77CwwmUeR",
        "outputId": "67cc3cd1-a633-43e2-fa2e-ee24d9d28572"
      },
      "execution_count": 21,
      "outputs": [
        {
          "output_type": "stream",
          "name": "stdout",
          "text": [
            "set()\n"
          ]
        }
      ]
    },
    {
      "cell_type": "code",
      "source": [
        "\n",
        "#18. Write a code to remove the element 4 from the set {1, 2, 3, 4}.\n",
        "\n",
        "my_set = {1, 2, 3, 4}\n",
        "my_set.remove(4)\n",
        "print(my_set)"
      ],
      "metadata": {
        "colab": {
          "base_uri": "https://localhost:8080/"
        },
        "id": "euRp25cvmqfF",
        "outputId": "365c9217-6442-4d59-abe7-6e09a20fee83"
      },
      "execution_count": 22,
      "outputs": [
        {
          "output_type": "stream",
          "name": "stdout",
          "text": [
            "{1, 2, 3}\n"
          ]
        }
      ]
    },
    {
      "cell_type": "code",
      "source": [
        "#19. Write a code to find the union of two sets {1, 2, 3} and {3, 4, 5}.\n",
        "\n",
        "\n",
        "set1 = {1, 2, 3}\n",
        "set2 = {3, 4, 5}\n",
        "union_set = set1.union(set2)\n",
        "print(union_set)"
      ],
      "metadata": {
        "colab": {
          "base_uri": "https://localhost:8080/"
        },
        "id": "C9MmCuvrmtfa",
        "outputId": "dd926936-fcc8-47fa-a9aa-f1f4ab492a9e"
      },
      "execution_count": 24,
      "outputs": [
        {
          "output_type": "stream",
          "name": "stdout",
          "text": [
            "{1, 2, 3, 4, 5}\n"
          ]
        }
      ]
    },
    {
      "cell_type": "code",
      "source": [
        "#20. Write a code to find the intersection of two sets {1, 2, 3} and {2, 3, 4}.\n",
        "\n",
        "\n",
        "set1 = {1, 2, 3}\n",
        "set2 = {2, 3, 4}\n",
        "intersection = set1.intersection(set2)\n",
        "print(intersection)"
      ],
      "metadata": {
        "colab": {
          "base_uri": "https://localhost:8080/"
        },
        "id": "OvjsvNapnCPO",
        "outputId": "ad75c28c-8e9f-497b-96b8-7f11c63374e5"
      },
      "execution_count": 25,
      "outputs": [
        {
          "output_type": "stream",
          "name": "stdout",
          "text": [
            "{2, 3}\n"
          ]
        }
      ]
    },
    {
      "cell_type": "code",
      "source": [
        "#21. Write a code to create a dictionary with the keys \"name\", \"age\", and \"city\", and print it.\n",
        "\n",
        "\n",
        "person = {\"name\": \"Anuj\", \"age\": 25, \"city\": \"Delhi\"}\n",
        "print(person)"
      ],
      "metadata": {
        "colab": {
          "base_uri": "https://localhost:8080/"
        },
        "id": "rHdyo3WCnKUH",
        "outputId": "25fa8b92-ca1e-42ca-8d9f-6dbc5ded4f3f"
      },
      "execution_count": 26,
      "outputs": [
        {
          "output_type": "stream",
          "name": "stdout",
          "text": [
            "{'name': 'Anuj', 'age': 25, 'city': 'Delhi'}\n"
          ]
        }
      ]
    },
    {
      "cell_type": "code",
      "source": [
        "\n",
        "#22. Write a code to add a new key-value pair \"country\": \"USA\" to the dictionary {'name': 'John', 'age': 25}.\n",
        "\n",
        "\n",
        "person = {'name': 'John', 'age': 25}\n",
        "person[\"country\"] = \"USA\"\n",
        "print(person)"
      ],
      "metadata": {
        "colab": {
          "base_uri": "https://localhost:8080/"
        },
        "id": "xpcwkmtgnV07",
        "outputId": "3be2dfbf-7c7a-4c28-ea7f-2d235bb3e5da"
      },
      "execution_count": 27,
      "outputs": [
        {
          "output_type": "stream",
          "name": "stdout",
          "text": [
            "{'name': 'John', 'age': 25, 'country': 'USA'}\n"
          ]
        }
      ]
    },
    {
      "cell_type": "code",
      "source": [
        "\n",
        "#23. Write a code to access the value associated with the key \"name\" in the dictionary {'name': 'Alice', 'age': 30}.\n",
        "\n",
        "\n",
        "person = {'name': 'Alice', 'age': 30}\n",
        "print(person[\"name\"])"
      ],
      "metadata": {
        "colab": {
          "base_uri": "https://localhost:8080/"
        },
        "id": "RHshbf2eneQj",
        "outputId": "9712ccc3-e8ef-45d7-dceb-9f4c85e40945"
      },
      "execution_count": 28,
      "outputs": [
        {
          "output_type": "stream",
          "name": "stdout",
          "text": [
            "Alice\n"
          ]
        }
      ]
    },
    {
      "cell_type": "code",
      "source": [
        "#24. Write a code to remove the key \"age\" from the dictionary {'name': 'Bob', 'age': 22, 'city': 'New York'}.\n",
        "\n",
        "\n",
        "person = {'name': 'Bob', 'age': 22, 'city': 'New York'}\n",
        "person.pop(\"age\")\n",
        "print(person)"
      ],
      "metadata": {
        "colab": {
          "base_uri": "https://localhost:8080/"
        },
        "id": "y7WufeCenl34",
        "outputId": "e73bbdd1-a3c4-4ae5-c58f-c631987cb33c"
      },
      "execution_count": 29,
      "outputs": [
        {
          "output_type": "stream",
          "name": "stdout",
          "text": [
            "{'name': 'Bob', 'city': 'New York'}\n"
          ]
        }
      ]
    },
    {
      "cell_type": "code",
      "source": [
        "\n",
        "\n",
        "#25. Write a code to check if the key \"city\" exists in the dictionary {'name': 'Alice', 'city': 'Paris'}.\n",
        "\n",
        "\n",
        "person = {'name': 'Alice', 'city': 'Paris'}\n",
        "print(\"city\" in person)"
      ],
      "metadata": {
        "colab": {
          "base_uri": "https://localhost:8080/"
        },
        "id": "hmYFr9y5nvnz",
        "outputId": "32ad5fd1-b319-46cb-95c2-f7fe26ba23ef"
      },
      "execution_count": 30,
      "outputs": [
        {
          "output_type": "stream",
          "name": "stdout",
          "text": [
            "True\n"
          ]
        }
      ]
    },
    {
      "cell_type": "code",
      "source": [
        "#26. Write a code to create a list, a tuple, and a dictionary, and print them all.\n",
        "\n",
        "\n",
        "my_list = [1, 2, 3]\n",
        "my_tuple = (4, 5, 6)\n",
        "my_dict = {\"a\": 10, \"b\": 20}\n",
        "print(my_list)\n",
        "print(my_tuple)\n",
        "print(my_dict)"
      ],
      "metadata": {
        "colab": {
          "base_uri": "https://localhost:8080/"
        },
        "id": "XB7IT0oln47W",
        "outputId": "93fbdfed-2739-405e-b4b8-a9c666ab78da"
      },
      "execution_count": 31,
      "outputs": [
        {
          "output_type": "stream",
          "name": "stdout",
          "text": [
            "[1, 2, 3]\n",
            "(4, 5, 6)\n",
            "{'a': 10, 'b': 20}\n"
          ]
        }
      ]
    },
    {
      "cell_type": "code",
      "source": [
        "#27. Write a code to create a list of 5 random numbers between 1 and 100, sort it in ascending order, and print the result.\n",
        "\n",
        "\n",
        "import random\n",
        "numbers = random.sample(range(1, 101), 5)\n",
        "numbers.sort()\n",
        "print(numbers)"
      ],
      "metadata": {
        "colab": {
          "base_uri": "https://localhost:8080/"
        },
        "id": "jAc8S-c9oAW8",
        "outputId": "9a1c2ca5-2eaa-4064-b538-92cbd90e0794"
      },
      "execution_count": 32,
      "outputs": [
        {
          "output_type": "stream",
          "name": "stdout",
          "text": [
            "[42, 49, 51, 56, 75]\n"
          ]
        }
      ]
    },
    {
      "cell_type": "code",
      "source": [
        "#28. Write a code to create a list with strings and print the element at the third index.\n",
        "\n",
        "\n",
        "words = [\"apple\", \"banana\", \"cherry\", \"date\", \"elderberry\"]\n",
        "print(words[3])"
      ],
      "metadata": {
        "colab": {
          "base_uri": "https://localhost:8080/"
        },
        "id": "qjg_edZ2oIYa",
        "outputId": "73a88c27-2562-4e9b-b8c8-8e1a977934ea"
      },
      "execution_count": 33,
      "outputs": [
        {
          "output_type": "stream",
          "name": "stdout",
          "text": [
            "date\n"
          ]
        }
      ]
    },
    {
      "cell_type": "code",
      "source": [
        "#29. Write a code to combine two dictionaries into one and print the result.\n",
        "\n",
        "\n",
        "dict1 = {\"a\": 1, \"b\": 2}\n",
        "dict2 = {\"c\": 3, \"d\": 4}\n",
        "combined = {**dict1, **dict2}\n",
        "print(combined)"
      ],
      "metadata": {
        "colab": {
          "base_uri": "https://localhost:8080/"
        },
        "id": "4zgG4baeoRdj",
        "outputId": "fd9d8b24-ae33-408f-ba40-ee502d7f959a"
      },
      "execution_count": 34,
      "outputs": [
        {
          "output_type": "stream",
          "name": "stdout",
          "text": [
            "{'a': 1, 'b': 2, 'c': 3, 'd': 4}\n"
          ]
        }
      ]
    },
    {
      "cell_type": "code",
      "source": [
        "\n",
        "#30. Write a code to convert a list of strings into a set.\n",
        "\n",
        "\n",
        "words = [\"apple\", \"banana\", \"cherry\", \"apple\"]\n",
        "word_set = set(words)\n",
        "print(word_set)"
      ],
      "metadata": {
        "colab": {
          "base_uri": "https://localhost:8080/"
        },
        "id": "NBxvxMbGobPJ",
        "outputId": "0367f106-4516-49d6-83de-0c396670c8d7"
      },
      "execution_count": 35,
      "outputs": [
        {
          "output_type": "stream",
          "name": "stdout",
          "text": [
            "{'banana', 'apple', 'cherry'}\n"
          ]
        }
      ]
    }
  ]
}